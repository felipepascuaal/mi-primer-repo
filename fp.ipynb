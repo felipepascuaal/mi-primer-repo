{
 "cells": [
  {
   "cell_type": "code",
   "execution_count": 1,
   "id": "55bd200c",
   "metadata": {},
   "outputs": [
    {
     "name": "stdout",
     "output_type": "stream",
     "text": [
      "Collecting psycopg2-binary\n",
      "  Downloading psycopg2_binary-2.9.10-cp39-cp39-win_amd64.whl (1.2 MB)\n",
      "     ---------------------------------------- 1.2/1.2 MB 14.8 MB/s eta 0:00:00\n",
      "Installing collected packages: psycopg2-binary\n",
      "Successfully installed psycopg2-binary-2.9.10\n",
      "Note: you may need to restart the kernel to use updated packages.\n"
     ]
    },
    {
     "name": "stderr",
     "output_type": "stream",
     "text": [
      "WARNING: You are using pip version 22.0.4; however, version 25.2 is available.\n",
      "You should consider upgrading via the 'C:\\Users\\Jose\\AppData\\Local\\Microsoft\\WindowsApps\\PythonSoftwareFoundation.Python.3.9_qbz5n2kfra8p0\\python.exe -m pip install --upgrade pip' command.\n"
     ]
    }
   ],
   "source": [
    "pip install psycopg2-binary\n"
   ]
  },
  {
   "cell_type": "code",
   "execution_count": 2,
   "id": "ea4caac9",
   "metadata": {},
   "outputs": [],
   "source": [
    "# postgres_example.py\n",
    "import psycopg2\n",
    "from psycopg2 import sql\n",
    "\n",
    "# --- Parámetros de conexión ---\n",
    "# Asegúrate de que el contenedor Docker esté corriendo\n",
    "DB_HOST = \"localhost\"\n",
    "DB_PORT = \"5432\"\n",
    "DB_NAME = \"postgres\"  # Base de datos por defecto\n",
    "DB_USER = \"postgres\"  # Usuario por defecto\n",
    "DB_PASS = \"mysecretpassword\" # La que pusiste en el comando docker run"
   ]
  },
  {
   "cell_type": "code",
   "execution_count": 3,
   "id": "f5e7f1b7",
   "metadata": {},
   "outputs": [
    {
     "name": "stdout",
     "output_type": "stream",
     "text": [
      "Conexión a PostgreSQL exitosa!\n"
     ]
    }
   ],
   "source": [
    "# 1. Establecer la conexión\n",
    "\n",
    "conn = psycopg2.connect(\n",
    "    host=DB_HOST,\n",
    "    port=DB_PORT,\n",
    "    dbname=DB_NAME,\n",
    "    user=DB_USER,\n",
    "    password=DB_PASS\n",
    "    )\n",
    "\n",
    "print(\"Conexión a PostgreSQL exitosa!\")"
   ]
  },
  {
   "cell_type": "code",
   "execution_count": 4,
   "id": "ac3bbb0e",
   "metadata": {},
   "outputs": [
    {
     "name": "stdout",
     "output_type": "stream",
     "text": [
      "Tabla 'usuarios' creada.\n"
     ]
    }
   ],
   "source": [
    "# 2. Crear un cursor (autocommit=True para que los cambios se apliquen inmediatamente)\n",
    "conn.autocommit = True\n",
    "cursor = conn.cursor()\n",
    "\n",
    "# 3. Ejecutar queries\n",
    "# Limpieza previa (opcional)\n",
    "cursor.execute(\"DROP TABLE IF EXISTS usuarios;\")\n",
    "\n",
    "# Crear tabla\n",
    "create_table_query = \"\"\"\n",
    "CREATE TABLE usuarios (\n",
    "    id SERIAL PRIMARY KEY,\n",
    "    nombre VARCHAR(50) NOT NULL,\n",
    "    email VARCHAR(50) UNIQUE NOT NULL\n",
    ");\n",
    "\"\"\"\n",
    "cursor.execute(create_table_query)\n",
    "print(\"Tabla 'usuarios' creada.\")"
   ]
  },
  {
   "cell_type": "code",
   "execution_count": 5,
   "id": "b1547638",
   "metadata": {},
   "outputs": [
    {
     "name": "stdout",
     "output_type": "stream",
     "text": [
      "2 usuarios insertados.\n"
     ]
    }
   ],
   "source": [
    "# Insertar datos de forma segura para evitar inyección SQL\n",
    "insert_query = \"INSERT INTO usuarios (nombre, email) VALUES (%s, %s);\"\n",
    "usuarios_a_insertar = [\n",
    "    ('Ana', 'ana@example.com'),\n",
    "    ('Carlos', 'carlos@example.com')\n",
    "]\n",
    "cursor.executemany(insert_query, usuarios_a_insertar)\n",
    "print(f\"{cursor.rowcount} usuarios insertados.\")"
   ]
  },
  {
   "cell_type": "code",
   "execution_count": 7,
   "id": "bf9b0ddf",
   "metadata": {},
   "outputs": [
    {
     "name": "stdout",
     "output_type": "stream",
     "text": [
      "\n",
      "--- Usuarios en la base de datos ---\n",
      "ID: 1, Nombre: Ana, Email: ana@example.com\n",
      "ID: 2, Nombre: Carlos, Email: carlos@example.com\n"
     ]
    }
   ],
   "source": [
    "# 4. Consultar y obtener resultados\n",
    "cursor.execute(\"SELECT id, nombre, email FROM usuarios ORDER BY nombre;\")\n",
    "\n",
    "print(\"\\n--- Usuarios en la base de datos ---\")\n",
    "for row in cursor.fetchall():\n",
    "    print(f\"ID: {row[0]}, Nombre: {row[1]}, Email: {row[2]}\")"
   ]
  }
 ],
 "metadata": {
  "kernelspec": {
   "display_name": "Python 3",
   "language": "python",
   "name": "python3"
  },
  "language_info": {
   "codemirror_mode": {
    "name": "ipython",
    "version": 3
   },
   "file_extension": ".py",
   "mimetype": "text/x-python",
   "name": "python",
   "nbconvert_exporter": "python",
   "pygments_lexer": "ipython3",
   "version": "3.9.13"
  }
 },
 "nbformat": 4,
 "nbformat_minor": 5
}
